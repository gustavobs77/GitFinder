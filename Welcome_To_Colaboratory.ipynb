{
  "cells": [
    {
      "cell_type": "markdown",
      "metadata": {
        "id": "view-in-github",
        "colab_type": "text"
      },
      "source": [
        "<a href=\"https://colab.research.google.com/github/gustavobs77/GitFinder/blob/master/Welcome_To_Colaboratory.ipynb\" target=\"_parent\"><img src=\"https://colab.research.google.com/assets/colab-badge.svg\" alt=\"Open In Colab\"/></a>"
      ]
    },
    {
      "cell_type": "code",
      "source": [
        "import cv2\n",
        "import pywt\n",
        "import pywt.data\n",
        "import matplotlib.image as mpimg\n",
        "import matplotlib.pyplot as plt\n"
      ],
      "metadata": {
        "id": "FEer4BUWRawT"
      },
      "execution_count": 10,
      "outputs": []
    },
    {
      "cell_type": "code",
      "source": [
        "\n",
        "\n",
        "\n",
        "\n",
        "def extract_image_features(image_path):\n",
        "    # Load the image using OpenCV\n",
        "    image = cv2.imread(image_path, cv2.IMREAD_GRAYSCALE)\n",
        "\n",
        "\n",
        "\n",
        "    # Perform 2D discrete wavelet transform (DWT) # image decomposition\n",
        "    coeffs = pywt.dwt2(image, 'haar')\n",
        "\n",
        "\n",
        "\n",
        "    # Extract the approximation, horizontal, vertical, and diagonal wavelet coefficients\n",
        "    cA, (cH, cV, cD) = coeffs\n",
        "\n",
        "\n",
        "\n",
        "    # Calculate brightness as the average of the approximation coefficients\n",
        "    brightness = cA.mean()\n",
        "\n",
        "\n",
        "\n",
        "    # Calculate contrast as the standard deviation of the approximation coefficients\n",
        "    contrast = cA.std()\n",
        "\n",
        "\n",
        "\n",
        "    # Return the extracted features\n",
        "    return brightness, contrast\n",
        "\n",
        "\n",
        "\n",
        "# Example usage\n",
        "image_path = '/content/MicrosoftTeams-image.png'\n",
        "brightness, contrast = extract_image_features(image_path)\n",
        "\n",
        "\n",
        "\n",
        "print(f\"Brightness: {brightness}\")\n",
        "print(f\"Contrast: {contrast}\")\n"
      ],
      "metadata": {
        "colab": {
          "base_uri": "https://localhost:8080/"
        },
        "id": "R48X6k_UTZzs",
        "outputId": "ad235787-1629-4417-c670-e4cef4911e2c"
      },
      "execution_count": 20,
      "outputs": [
        {
          "output_type": "stream",
          "name": "stdout",
          "text": [
            "Brightness: 180.16055169753088\n",
            "Contrast: 131.24148577823618\n"
          ]
        }
      ]
    }
  ],
  "metadata": {
    "colab": {
      "name": "Welcome To Colaboratory",
      "provenance": [],
      "include_colab_link": true
    },
    "kernelspec": {
      "display_name": "Python 3",
      "name": "python3"
    }
  },
  "nbformat": 4,
  "nbformat_minor": 0
}